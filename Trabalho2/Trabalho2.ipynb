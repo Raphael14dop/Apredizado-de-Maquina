{
 "cells": [
  {
   "cell_type": "markdown",
   "metadata": {},
   "source": [
    "#                                       Trabalho 2\n",
    "\n",
    "                                      Aluno: Raphael Dantas "
   ]
  },
  {
   "cell_type": "markdown",
   "metadata": {},
   "source": [
    "# 2 Sistemas de Recomendação\n",
    "\n",
    "\n",
    "2.1 Conjunto de dados de classificações de filme"
   ]
  },
  {
   "cell_type": "markdown",
   "metadata": {},
   "source": [
    "Nesta parte, você implementará o algoritmo de aprendizagem de filtragem colaborativa\n",
    "e aplicá-lo-á a um conjunto de dados de avaliações de filmes. Este conjunto de dados consiste em classificações em uma escala de 1 a 5. O conjunto de dados tem nu = 943 usuários e nm = 1682 filmes."
   ]
  },
  {
   "cell_type": "code",
   "execution_count": 2,
   "metadata": {},
   "outputs": [
    {
     "data": {
      "text/plain": [
       "{'R': array([[1, 1, 0, ..., 1, 0, 0],\n",
       "        [1, 0, 0, ..., 0, 0, 1],\n",
       "        [1, 0, 0, ..., 0, 0, 0],\n",
       "        ...,\n",
       "        [0, 0, 0, ..., 0, 0, 0],\n",
       "        [0, 0, 0, ..., 0, 0, 0],\n",
       "        [0, 0, 0, ..., 0, 0, 0]], dtype=uint8),\n",
       " 'Y': array([[5, 4, 0, ..., 5, 0, 0],\n",
       "        [3, 0, 0, ..., 0, 0, 5],\n",
       "        [4, 0, 0, ..., 0, 0, 0],\n",
       "        ...,\n",
       "        [0, 0, 0, ..., 0, 0, 0],\n",
       "        [0, 0, 0, ..., 0, 0, 0],\n",
       "        [0, 0, 0, ..., 0, 0, 0]], dtype=uint8),\n",
       " '__globals__': [],\n",
       " '__header__': b'MATLAB 5.0 MAT-file, Platform: GLNXA64, Created on: Thu Dec  1 17:19:26 2011',\n",
       " '__version__': '1.0'}"
      ]
     },
     "execution_count": 2,
     "metadata": {},
     "output_type": "execute_result"
    }
   ],
   "source": [
    "from scipy.io import loadmat\n",
    "import numpy as np  \n",
    "import pandas as pd  \n",
    "import matplotlib.pyplot as plt  \n",
    "import seaborn as sb  \n",
    "from scipy.io import loadmat  \n",
    "%matplotlib inline\n",
    "\n",
    "data = loadmat(\"ex8_movies.mat\")\n",
    "\n",
    "data\n",
    "\n"
   ]
  },
  {
   "cell_type": "markdown",
   "metadata": {},
   "source": [
    "A matriz Y (de ordem n\u0013umero de \f",
    "lmes x n\u0013umero de\n",
    "usu\u0013arios) armazena as classi\f",
    "ca\u0018c~oes y(i;j) (de 1 a 5). A matriz R \u0013e uma matriz\n",
    "de indicadores de valor bin\u0013ario, onde R(i; j) = 1 se o usu\u0013ario j forneceu\n",
    "uma classi\f",
    "ca\u0018c~ao para o \f",
    "lme i e R(i; j) = 0 em caso contr\u0013ario."
   ]
  },
  {
   "cell_type": "code",
   "execution_count": 2,
   "metadata": {},
   "outputs": [
    {
     "data": {
      "text/plain": [
       "((1682, 943), (1682, 943))"
      ]
     },
     "execution_count": 2,
     "metadata": {},
     "output_type": "execute_result"
    }
   ],
   "source": [
    "\n",
    "Y = data['Y']  \n",
    "R = data['R']  \n",
    "\n",
    "Y.shape, R.shape\n"
   ]
  },
  {
   "cell_type": "markdown",
   "metadata": {},
   "source": [
    "2.2 Algoritmo de aprendizagem de filtragem colaborativa"
   ]
  },
  {
   "cell_type": "code",
   "execution_count": 3,
   "metadata": {},
   "outputs": [
    {
     "data": {
      "text/plain": [
       "((1682, 10), (943, 10))"
      ]
     },
     "execution_count": 3,
     "metadata": {},
     "output_type": "execute_result"
    }
   ],
   "source": [
    "users = 4  \n",
    "movies = 5  \n",
    "features = 3\n",
    "\n",
    "params_data = loadmat('ex8_movieParams.mat')  \n",
    "\n",
    "X = params_data['X']\n",
    "Theta = params_data['Theta']\n",
    "X.shape, Theta.shape\n"
   ]
  },
  {
   "cell_type": "markdown",
   "metadata": {},
   "source": [
    "2.2.1 Função de custo da filtragem colaborativa"
   ]
  },
  {
   "cell_type": "code",
   "execution_count": 4,
   "metadata": {},
   "outputs": [
    {
     "name": "stdout",
     "output_type": "stream",
     "text": [
      "Valor do custo: 22.2246\n"
     ]
    }
   ],
   "source": [
    "%run -i \"cofi_cost_func.py\"\n",
    "\n",
    "X_sub = X[:movies, :features]  \n",
    "Theta_sub = Theta[:users, :features]  \n",
    "Y_sub = Y[:movies, :users]  \n",
    "R_sub = R[:movies, :users]\n",
    "\n",
    "params = np.concatenate((np.ravel(X_sub), np.ravel(Theta_sub)))\n",
    "\n",
    "J,grad = custoGradiente(params, Y_sub, R_sub, features)\n",
    "\n",
    "print(\"Valor do custo: %.4f\" %J)"
   ]
  },
  {
   "cell_type": "markdown",
   "metadata": {},
   "source": [
    "2.2.2 Gradiente de filtragem colaborativa"
   ]
  },
  {
   "cell_type": "code",
   "execution_count": 5,
   "metadata": {},
   "outputs": [
    {
     "name": "stdout",
     "output_type": "stream",
     "text": [
      "Valor do Gradiente:\n",
      "[ -2.52899165   7.57570308  -1.89979026  -0.56819597   3.35265031\n",
      "  -0.52339845  -0.83240713   4.91163297  -0.76677878  -0.38358278\n",
      "   2.26333698  -0.35334048  -0.80378006   4.74271842  -0.74040871\n",
      " -10.5680202    4.62776019  -7.16004443  -3.05099006   1.16441367\n",
      "  -3.47410789   0.           0.           0.           0.\n",
      "   0.           0.        ]\n"
     ]
    }
   ],
   "source": [
    "print(\"Valor do Gradiente:\")\n",
    "print(grad)"
   ]
  },
  {
   "cell_type": "markdown",
   "metadata": {},
   "source": [
    "2.3 Aprendizado de Recomendações para Filmes\n",
    "\n",
    "\n",
    "Relizando a leitura da lista de filmes para recomendações"
   ]
  },
  {
   "cell_type": "code",
   "execution_count": 35,
   "metadata": {
    "scrolled": true
   },
   "outputs": [
    {
     "name": "stdout",
     "output_type": "stream",
     "text": [
      "Avaliacoes do novo usuario:\n",
      "\tAvaliou 4 para Toy Story (1995)\n",
      "\tAvaliou 3 para Twelve Monkeys (1995)\n",
      "\tAvaliou 5 para Usual Suspects, The (1995)\n",
      "\tAvaliou 4 para Outbreak (1995)\n",
      "\tAvaliou 5 para Shawshank Redemption, The (1994)\n",
      "\tAvaliou 3 para While You Were Sleeping (1995)\n",
      "\tAvaliou 5 para Forrest Gump (1994)\n",
      "\tAvaliou 2 para Silence of the Lambs, The (1991)\n",
      "\tAvaliou 4 para Alien (1979)\n",
      "\tAvaliou 5 para Die Hard 2 (1990)\n",
      "\tAvaliou 5 para Sphere (1998)\n"
     ]
    },
    {
     "data": {
      "text/plain": [
       "<matplotlib.figure.Figure at 0x228fa1c1b70>"
      ]
     },
     "metadata": {},
     "output_type": "display_data"
    }
   ],
   "source": [
    "from scipy.optimize import minimize\n",
    "%run -i \"load_movie_list.py\"\n",
    "%run -i \"normalize_ratings.py\"\n",
    "%run -i \"cofi_cost_func2.py\"\n",
    "\n",
    "movieList = load_movie_list()\n",
    "\n",
    "#  Inicia o vetor de avaliacoes do novo usuario\n",
    "\n",
    "my_ratings = np.zeros(1682)\n",
    "\n",
    "\n",
    "\n",
    "# Por exemplo, Toy Story (1995) tem ID 1; sendo assim, para atribuir avaliacao \"4\", faça:\n",
    "\n",
    "my_ratings[0] = 4\n",
    "\n",
    "\n",
    "\n",
    "# Ou suponha que voce nao gostou de Silence of the Lambs (1991):\n",
    "\n",
    "my_ratings[97] = 2\n",
    "\n",
    "\n",
    "\n",
    "# Abaixo, sao definidas as avaliacoes para outros filmes:\n",
    "\n",
    "my_ratings[6] = 3\n",
    "\n",
    "my_ratings[11] = 5\n",
    "\n",
    "my_ratings[53] = 4\n",
    "\n",
    "my_ratings[63] = 5\n",
    "\n",
    "my_ratings[65] = 3\n",
    "\n",
    "my_ratings[68] = 5\n",
    "\n",
    "my_ratings[182] = 4\n",
    "\n",
    "my_ratings[225] = 5\n",
    "\n",
    "my_ratings[354] = 5\n",
    "\n",
    "\n",
    "\n",
    "print('Avaliacoes do novo usuario:')\n",
    "\n",
    "for i in range(len(my_ratings)):\n",
    "\n",
    "    if my_ratings[i] > 0:\n",
    "\n",
    "        print('\\tAvaliou %d para %s' % (my_ratings[i], movieList[i]))\n",
    "        \n",
    "        \n",
    "        \n"
   ]
  },
  {
   "cell_type": "markdown",
   "metadata": {},
   "source": [
    "Realizando algumas avaliações e sugestão Apos treinamento do modelo, e possivel realizar recomendacoes por meio da computacao da matriz de predicoes."
   ]
  },
  {
   "cell_type": "code",
   "execution_count": 7,
   "metadata": {},
   "outputs": [
    {
     "name": "stdout",
     "output_type": "stream",
     "text": [
      "Optimization terminated successfully.\n",
      "         Current function value: 35118.790099\n",
      "         Iterations: 360\n",
      "         Function evaluations: 533\n",
      "         Gradient evaluations: 533\n",
      "Aprendizado do Sistema de Recomendação finalizado.\n",
      "\n",
      "Recomendacoes principais:\n",
      "\tPrevisão de avaliacao 5.0 para Great Day in Harlem, A (1994)\n",
      "\tPrevisão de avaliacao 4.9 para Shawshank Redemption, The (1994)\n",
      "\tPrevisão de avaliacao 4.8 para Man Who Would Be King, The (1975)\n",
      "\tPrevisão de avaliacao 4.8 para Godfather: Part II, The (1974)\n",
      "\tPrevisão de avaliacao 4.8 para Usual Suspects, The (1995)\n",
      "\tPrevisão de avaliacao 4.7 para Singin' in the Rain (1952)\n",
      "\tPrevisão de avaliacao 4.7 para Cinema Paradiso (1988)\n",
      "\tPrevisão de avaliacao 4.6 para Amadeus (1984)\n",
      "\tPrevisão de avaliacao 4.6 para Blade Runner (1982)\n",
      "\tPrevisão de avaliacao 4.6 para Close Shave, A (1995)\n",
      "\n",
      "Avaliacoes originais fornecidas:\n",
      "\tAvaliou 4 para Toy Story (1995)\n",
      "\tAvaliou 3 para Twelve Monkeys (1995)\n",
      "\tAvaliou 5 para Usual Suspects, The (1995)\n",
      "\tAvaliou 4 para Outbreak (1995)\n",
      "\tAvaliou 5 para Shawshank Redemption, The (1994)\n",
      "\tAvaliou 3 para While You Were Sleeping (1995)\n",
      "\tAvaliou 5 para Forrest Gump (1994)\n",
      "\tAvaliou 2 para Silence of the Lambs, The (1991)\n",
      "\tAvaliou 4 para Alien (1979)\n",
      "\tAvaliou 5 para Die Hard 2 (1990)\n",
      "\tAvaliou 5 para Sphere (1998)\n"
     ]
    }
   ],
   "source": [
    "\n",
    "data = loadmat('ex8_movies.mat')\n",
    "\n",
    "Y = data['Y']\n",
    "\n",
    "R = data['R'].astype(bool)\n",
    "\n",
    "\n",
    "#  Adiciona algumas avaliacoes a matriz\n",
    "\n",
    "Y = np.column_stack((my_ratings, Y))\n",
    "\n",
    "R = np.column_stack((my_ratings, R)).astype(bool)\n",
    "\n",
    "\n",
    "#  Normaliza avaliacoes\n",
    "\n",
    "Ynorm, Ymean = normalize_ratings(Y, R)\n",
    "\n",
    "num_users = Y.shape[1]\n",
    "\n",
    "num_movies = Y.shape[0]\n",
    "\n",
    "num_features = 10\n",
    "\n",
    "# Define parametros iniciais (Theta, X)\n",
    "\n",
    "X = np.random.rand(num_movies, num_features)\n",
    "\n",
    "Theta = np.random.rand(num_users, num_features)\n",
    "\n",
    "\n",
    "initial_parameters = np.hstack((X.T.flatten(), Theta.T.flatten()))\n",
    "\n",
    "# fator de regularizacao\n",
    "\n",
    "Lambda = 10\n",
    "\n",
    "costFunc = lambda p: cofi_cost_func(p, Ynorm, R, num_users, num_movies, num_features, Lambda)[0]\n",
    "\n",
    "gradFunc = lambda p: cofi_cost_func(p, Ynorm, R, num_users, num_movies, num_features, Lambda)[1]\n",
    "\n",
    "\n",
    "result = minimize(costFunc, initial_parameters, method='CG', jac=gradFunc, options={'disp': True, 'maxiter': 1000.0})\n",
    "\n",
    "theta = result.x\n",
    "\n",
    "cost = result.fun\n",
    "\n",
    "# Extrai as matrizes X e Theta a partir de theta\n",
    "\n",
    "X = theta[:num_movies*num_features].reshape(num_movies, num_features)\n",
    "\n",
    "Theta = theta[num_movies*num_features:].reshape(num_users, num_features)\n",
    "\n",
    "\n",
    "\n",
    "print('Aprendizado do Sistema de Recomendação finalizado.')\n",
    "\n",
    "## ================== Realizacao de recomendacoes ====================\n",
    "\n",
    "#  Apos treinamento do modelo, e possivel realizar recomendacoes por meio\n",
    "\n",
    "#  da computacao da matriz de predicoes.\n",
    "\n",
    "#\n",
    "\n",
    "p = X.dot(Theta.T)\n",
    "\n",
    "my_predictions = p[:, 0] + Ymean\n",
    "\n",
    "movieList = load_movie_list()\n",
    "\n",
    "# ordena predicoes em ordem decrescente\n",
    "\n",
    "pre=np.array([[idx, p] for idx, p in enumerate(my_predictions)])\n",
    "\n",
    "post = pre[pre[:,1].argsort()[::-1]]\n",
    "\n",
    "r = post[:,1]\n",
    "\n",
    "ix = post[:,0]\n",
    "\n",
    "\n",
    "print('\\nRecomendacoes principais:')\n",
    "\n",
    "for i in range(10):\n",
    "\n",
    "    j = int(ix[i])\n",
    "\n",
    "    print('\\tPrevisão de avaliacao %.1f para %s' % (my_predictions[j], movieList[j]))\n",
    "\n",
    "\n",
    "\n",
    "print('\\nAvaliacoes originais fornecidas:')\n",
    "\n",
    "for i in range(len(my_ratings)):\n",
    "\n",
    "    if my_ratings[i] > 0:\n",
    "\n",
    "        print('\\tAvaliou %d para %s' % (my_ratings[i], movieList[i]))"
   ]
  },
  {
   "cell_type": "markdown",
   "metadata": {},
   "source": [
    "2.4 Filtragem Colaborativa - m\u0013etodo baseado em mem\u0013oria\n",
    "\n",
    "Realizando a leitura dos dataset"
   ]
  },
  {
   "cell_type": "code",
   "execution_count": 69,
   "metadata": {},
   "outputs": [
    {
     "name": "stdout",
     "output_type": "stream",
     "text": [
      "Dataset 1 shape: (24058263, 2)\n",
      "-Dataset examples-\n",
      "          Cust_Id  Rating\n",
      "0              1:     NaN\n",
      "5000000   2560324     4.0\n",
      "10000000  2271935     2.0\n",
      "15000000  1921803     2.0\n",
      "20000000  1933327     3.0\n"
     ]
    }
   ],
   "source": [
    "### import pandas as pd\n",
    "import numpy as np\n",
    "import math\n",
    "import re\n",
    "from scipy.sparse import csr_matrix\n",
    "import matplotlib.pyplot as plt\n",
    "import seaborn as sns\n",
    "#from surprise import Reader, Dataset, SVD, evaluate\n",
    "sns.set_style(\"darkgrid\")\n",
    "\n",
    "# Skip date\n",
    "#df = pd.read_csv('TrainingRatings.txt', header = None, names = ['Cust_Id','Movie_Id','Rating'], usecols = [0,2])\n",
    "df = pd.read_csv('combined_data_1.txt', header = None, names = ['Cust_Id', 'Rating'], usecols = [0,1])\n",
    "\n",
    "df['Rating'] = df['Rating'].astype(float)\n",
    "\n",
    "print('Dataset 1 shape: {}'.format(df.shape))\n",
    "print('-Dataset examples-')\n",
    "print(df.iloc[::5000000, :])"
   ]
  },
  {
   "cell_type": "code",
   "execution_count": null,
   "metadata": {},
   "outputs": [],
   "source": []
  },
  {
   "cell_type": "code",
   "execution_count": 70,
   "metadata": {},
   "outputs": [
    {
     "data": {
      "image/png": "[encoded data removed]",
      "text/plain": [
       "<matplotlib.figure.Figure at 0x228c70487b8>"
      ]
     },
     "metadata": {},
     "output_type": "display_data"
    }
   ],
   "source": [
    "p = df.groupby('Rating')['Rating'].agg(['count'])\n",
    "\n",
    "# get movie count\n",
    "movie_count = df.isnull().sum()[1]\n",
    "\n",
    "# get customer count\n",
    "cust_count = df['Cust_Id'].nunique() - movie_count\n",
    "\n",
    "# get rating count\n",
    "rating_count = df['Cust_Id'].count() - movie_count\n",
    "\n",
    "ax = p.plot(kind = 'barh', legend = False, figsize = (15,10))\n",
    "plt.title('Total pool: {:,} Movies, {:,} customers, {:,} ratings given'.format(movie_count, cust_count, rating_count), fontsize=20)\n",
    "plt.axis('off')\n",
    "\n",
    "for i in range(1,6):\n",
    "    ax.text(p.iloc[i-1][0]/4, i-1, 'Rating {}: {:.0f}%'.format(i, p.iloc[i-1][0]*100 / p.sum()[0]), color = 'white', weight = 'bold')"
   ]
  },
  {
   "cell_type": "markdown",
   "metadata": {},
   "source": [
    "Podemos ver que a classificação tende a ser relativamente positiva (> 3). Isto pode ser devido ao fato de que os clientes infelizes tendem a apenas sair em vez de fazer esforços para avaliar. Podemos manter isso em mente. Baixa classificação filmes significam que eles são geralmente muito ruim."
   ]
  },
  {
   "cell_type": "markdown",
   "metadata": {},
   "source": [
    "Pode observar que o arquivo possui uma enorme quantidade de filmes. Se tentar adicionar filme ID coluna exigirá muito da memória. Dessa forma, primeiramente criando uma disposição numpy com comprimento correto a seguir adiciono a disposição inteira como a coluna no dataframe."
   ]
  },
  {
   "cell_type": "code",
   "execution_count": 71,
   "metadata": {},
   "outputs": [
    {
     "name": "stdout",
     "output_type": "stream",
     "text": [
      "Movie numpy: [1.000e+00 1.000e+00 1.000e+00 ... 4.499e+03 4.499e+03 4.499e+03]\n",
      "Length: 24053764\n"
     ]
    }
   ],
   "source": [
    "df_nan = pd.DataFrame(pd.isnull(df.Rating))\n",
    "df_nan = df_nan[df_nan['Rating'] == True]\n",
    "df_nan = df_nan.reset_index()\n",
    "\n",
    "movie_np = []\n",
    "movie_id = 1\n",
    "\n",
    "for i,j in zip(df_nan['index'][1:],df_nan['index'][:-1]):\n",
    "    # numpy approach\n",
    "    temp = np.full((1,i-j-1), movie_id)\n",
    "    movie_np = np.append(movie_np, temp)\n",
    "    movie_id += 1\n",
    "\n",
    "# Account for last record and corresponding length\n",
    "# numpy approach\n",
    "last_record = np.full((1,len(df) - df_nan.iloc[-1, 0] - 1),movie_id)\n",
    "movie_np = np.append(movie_np, last_record)\n",
    "\n",
    "print('Movie numpy: {}'.format(movie_np))\n",
    "print('Length: {}'.format(len(movie_np)))\n"
   ]
  },
  {
   "cell_type": "markdown",
   "metadata": {},
   "source": [
    "Esta sendo Removido filmes com opiniões pouco populares e cliente que são relativamente menos ativos para que possa ter uma melhoria significativa na eficiência, uma vez que os filmes impopulares e  clientes não ativos ainda ocupam mesmo volume cque os filmes populares e clientes ativos na visão da matriz (NaN ainda ocupam espaço). "
   ]
  },
  {
   "cell_type": "code",
   "execution_count": 73,
   "metadata": {},
   "outputs": [
    {
     "name": "stdout",
     "output_type": "stream",
     "text": [
      "-Dataset examples-\n",
      "          Cust_Id  Rating  Movie_Id\n",
      "1         1488844     3.0         1\n",
      "5000996    501954     2.0       996\n",
      "10001962   404654     5.0      1962\n",
      "15002876   886608     2.0      2876\n",
      "20003825  1193835     2.0      3825\n"
     ]
    }
   ],
   "source": [
    "# remove those Movie ID rows\n",
    "df = df[pd.notnull(df['Rating'])]\n",
    "\n",
    "df['Movie_Id'] = movie_np.astype(int)\n",
    "df['Cust_Id'] = df['Cust_Id'].astype(int)\n",
    "print('-Dataset examples-')\n",
    "print(df.iloc[::5000000, :])"
   ]
  },
  {
   "cell_type": "code",
   "execution_count": 74,
   "metadata": {},
   "outputs": [
    {
     "name": "stdout",
     "output_type": "stream",
     "text": [
      "Movie minimum times of review: 3884.0\n",
      "Customer minimum times of review: 79.0\n"
     ]
    }
   ],
   "source": [
    "f = ['count','mean']\n",
    "\n",
    "df_movie_summary = df.groupby('Movie_Id')['Rating'].agg(f)\n",
    "df_movie_summary.index = df_movie_summary.index.map(int)\n",
    "movie_benchmark = round(df_movie_summary['count'].quantile(0.8),0)\n",
    "drop_movie_list = df_movie_summary[df_movie_summary['count'] < movie_benchmark].index\n",
    "\n",
    "print('Movie minimum times of review: {}'.format(movie_benchmark))\n",
    "\n",
    "df_cust_summary = df.groupby('Cust_Id')['Rating'].agg(f)\n",
    "df_cust_summary.index = df_cust_summary.index.map(int)\n",
    "cust_benchmark = round(df_cust_summary['count'].quantile(0.8),0)\n",
    "drop_cust_list = df_cust_summary[df_cust_summary['count'] < cust_benchmark].index\n",
    "\n",
    "print('Customer minimum times of review: {}'.format(cust_benchmark))"
   ]
  },
  {
   "cell_type": "code",
   "execution_count": 75,
   "metadata": {},
   "outputs": [
    {
     "name": "stdout",
     "output_type": "stream",
     "text": [
      "Original Shape: (24053764, 3)\n",
      "After Trim Shape: (13528427, 3)\n",
      "-Data Examples-\n",
      "          Cust_Id  Rating  Movie_Id\n",
      "5109       785314     1.0         8\n",
      "7163       999901     5.0         8\n",
      "9223       778383     3.0         8\n",
      "11277      994565     1.0         8\n",
      "13395     1833221     4.0         8\n",
      "15484     1256465     4.0         8\n",
      "17604     2583580     4.0         8\n",
      "19622     1403206     3.0         8\n",
      "26168      591587     3.0        17\n",
      "28350     2238629     2.0        17\n",
      "30634      290874     3.0        17\n",
      "32279      139212     3.0        18\n",
      "33565      825485     4.0        18\n",
      "34829     2254090     4.0        18\n",
      "36060     1498149     3.0        18\n",
      "37333     2130617     4.0        18\n",
      "38590      358553     5.0        18\n",
      "39811     1934423     5.0        18\n",
      "41075      328353     3.0        18\n",
      "46627     2602480     2.0        26\n",
      "48355     2441155     2.0        26\n",
      "50056      715516     3.0        26\n",
      "51778     2569952     2.0        26\n",
      "53603      563381     4.0        28\n",
      "55039     2506101     3.0        28\n",
      "56496     1943215     4.0        28\n",
      "57987     2443784     4.0        28\n",
      "59437      523720     5.0        28\n",
      "60905     1521829     5.0        28\n",
      "62340      448083     5.0        28\n",
      "...           ...     ...       ...\n",
      "24010226  2469956     5.0      4488\n",
      "24011592   237094     3.0      4488\n",
      "24012932   545689     4.0      4488\n",
      "24014301   614897     2.0      4488\n",
      "24015682  1077871     4.0      4488\n",
      "24017058  2312202     4.0      4488\n",
      "24018449  1682169     3.0      4488\n",
      "24021453  2449394     4.0      4490\n",
      "24023152  2587757     2.0      4490\n",
      "24024793  1824028     3.0      4490\n",
      "24026467   971925     3.0      4490\n",
      "24028205  2382951     4.0      4490\n",
      "24029932   959752     5.0      4490\n",
      "24031886  1840463     2.0      4492\n",
      "24033370  2468305     4.0      4492\n",
      "24034815   497249     1.0      4492\n",
      "24036261   418825     3.0      4492\n",
      "24037738  1494196     5.0      4492\n",
      "24039201  2326703     2.0      4492\n",
      "24040711  1830763     3.0      4493\n",
      "24042327   443572     3.0      4493\n",
      "24043886   896636     2.0      4493\n",
      "24045502   479280     3.0      4493\n",
      "24047814   954973     3.0      4496\n",
      "24049223  1060157     5.0      4496\n",
      "24050622  1652098     5.0      4496\n",
      "24052029   509684     2.0      4496\n",
      "24053431  2115145     3.0      4496\n",
      "24054867   441344     4.0      4496\n",
      "24056267   875209     4.0      4496\n",
      "\n",
      "[13529 rows x 3 columns]\n"
     ]
    }
   ],
   "source": [
    "print('Original Shape: {}'.format(df.shape))\n",
    "df = df[~df['Movie_Id'].isin(drop_movie_list)]\n",
    "df = df[~df['Cust_Id'].isin(drop_cust_list)]\n",
    "print('After Trim Shape: {}'.format(df.shape))\n",
    "print('-Data Examples-')\n",
    "print(df.iloc[::1000, :])"
   ]
  },
  {
   "cell_type": "code",
   "execution_count": 76,
   "metadata": {},
   "outputs": [
    {
     "name": "stdout",
     "output_type": "stream",
     "text": [
      "(95325, 900)\n"
     ]
    }
   ],
   "source": [
    "df_p = pd.pivot_table(df,values='Rating',index='Cust_Id',columns='Movie_Id')\n",
    "\n",
    "print(df_p.shape)"
   ]
  },
  {
   "cell_type": "markdown",
   "metadata": {},
   "source": [
    "Realizando o mapeamento de filmes"
   ]
  },
  {
   "cell_type": "code",
   "execution_count": 77,
   "metadata": {},
   "outputs": [
    {
     "name": "stdout",
     "output_type": "stream",
     "text": [
      "            Year                          Name\n",
      "Movie_Id                                      \n",
      "1         2003.0               Dinosaur Planet\n",
      "2         2004.0    Isle of Man TT 2004 Review\n",
      "3         1997.0                     Character\n",
      "4         1994.0  Paula Abdul's Get Up & Dance\n",
      "5         2004.0      The Rise and Fall of ECW\n",
      "6         1997.0                          Sick\n",
      "7         1992.0                         8 Man\n",
      "8         2004.0    What the #$*! Do We Know!?\n",
      "9         1991.0      Class of Nuke 'Em High 2\n",
      "10        2001.0                       Fighter\n"
     ]
    }
   ],
   "source": [
    "df_title = pd.read_csv('movie_titles.csv', encoding = \"ISO-8859-1\", header = None, names = ['Movie_Id', 'Year', 'Name'])\n",
    "df_title.set_index('Movie_Id', inplace = True)\n",
    "print (df_title.head(10))"
   ]
  },
  {
   "cell_type": "markdown",
   "metadata": {},
   "source": [
    "Realizando o ajuste das 100k linhas por conta do tamanho dos dados"
   ]
  },
  {
   "cell_type": "code",
   "execution_count": 78,
   "metadata": {},
   "outputs": [
    {
     "name": "stderr",
     "output_type": "stream",
     "text": [
      "C:\\Users\\rapha\\Anaconda3\\lib\\site-packages\\surprise\\evaluate.py:66: UserWarning: The evaluate() method is deprecated. Please use model_selection.cross_validate() instead.\n",
      "  'model_selection.cross_validate() instead.', UserWarning)\n"
     ]
    },
    {
     "name": "stdout",
     "output_type": "stream",
     "text": [
      "Evaluating RMSE, MAE of algorithm SVD.\n",
      "\n",
      "------------\n",
      "Fold 1\n",
      "RMSE: 0.9876\n",
      "MAE:  0.7965\n",
      "------------\n",
      "Fold 2\n",
      "RMSE: 0.9812\n",
      "MAE:  0.7875\n",
      "------------\n",
      "Fold 3\n",
      "RMSE: 0.9866\n",
      "MAE:  0.8013\n",
      "------------\n",
      "------------\n",
      "Mean RMSE: 0.9852\n",
      "Mean MAE : 0.7951\n",
      "------------\n",
      "------------\n"
     ]
    },
    {
     "name": "stderr",
     "output_type": "stream",
     "text": [
      "C:\\Users\\rapha\\Anaconda3\\lib\\site-packages\\surprise\\dataset.py:193: UserWarning: Using data.split() or using load_from_folds() without using a CV iterator is now deprecated. \n",
      "  UserWarning)\n"
     ]
    },
    {
     "data": {
      "text/plain": [
       "CaseInsensitiveDefaultDict(list,\n",
       "                           {'mae': [0.796466325041173,\n",
       "                             0.7874709374715761,\n",
       "                             0.801293482910586],\n",
       "                            'rmse': [0.987647485917114,\n",
       "                             0.9812324211048468,\n",
       "                             0.9866135360832958]})"
      ]
     },
     "execution_count": 78,
     "metadata": {},
     "output_type": "execute_result"
    }
   ],
   "source": [
    "from surprise import Reader, Dataset, SVD, evaluate\n",
    "\n",
    "reader = Reader()\n",
    "\n",
    "# get just top 100K rows for faster run time\n",
    "data = Dataset.load_from_df(df[['Cust_Id', 'Movie_Id', 'Rating']][:100000], reader)\n",
    "data.split(n_folds=3)\n",
    "\n",
    "svd = SVD()\n",
    "evaluate(svd, data, measures=['RMSE', 'MAE'])"
   ]
  },
  {
   "cell_type": "markdown",
   "metadata": {},
   "source": [
    "Para realizar teste foi escolhido o usuario 785314 para verificação de quais as avaliacoes foram feitas por ele"
   ]
  },
  {
   "cell_type": "code",
   "execution_count": 79,
   "metadata": {},
   "outputs": [
    {
     "name": "stdout",
     "output_type": "stream",
     "text": [
      "Movie_Id\n",
      "175                                        Reservoir Dogs\n",
      "311                                               Ed Wood\n",
      "329                                                 Dogma\n",
      "331                                           Chasing Amy\n",
      "788                                                Clerks\n",
      "798                                                  Jaws\n",
      "907                                       Animal Crackers\n",
      "985                                             The Mummy\n",
      "1552                                          Black Adder\n",
      "1905    Pirates of the Caribbean: The Curse of the Bla...\n",
      "2000                          Four Weddings and a Funeral\n",
      "2122                                 Being John Malkovich\n",
      "2342                                        Super Size Me\n",
      "2360                                  Singin' in the Rain\n",
      "2430                           Alien: Collector's Edition\n",
      "2443                             Like Water for Chocolate\n",
      "2452        Lord of the Rings: The Fellowship of the Ring\n",
      "2465                                   This Is Spinal Tap\n",
      "2554                        The Rocky Horror Picture Show\n",
      "2848                                          The Hustler\n",
      "2862                             The Silence of the Lambs\n",
      "3150                     Monty Python: The Life of Python\n",
      "3168                            Evil Dead 2: Dead by Dawn\n",
      "3198                                    The Addams Family\n",
      "3315                                   The Maltese Falcon\n",
      "3446                                        Spirited Away\n",
      "3489                                         Time Bandits\n",
      "3590                              Jason and the Argonauts\n",
      "3648            Who Framed Roger Rabbit?: Special Edition\n",
      "3798                                            The Sting\n",
      "3935                                     Yellow Submarine\n",
      "3962                            Finding Nemo (Widescreen)\n",
      "4080                                        A Mighty Wind\n",
      "4227                                       The Full Monty\n",
      "4306                                      The Sixth Sense\n",
      "4345                                Bowling for Columbine\n",
      "4356                                    Road to Perdition\n",
      "4392                                     Army of Darkness\n",
      "4454                                 To Have and Have Not\n",
      "Name: Name, dtype: object\n"
     ]
    }
   ],
   "source": [
    "df_785314 = df[(df['Cust_Id'] == 785314) & (df['Rating'] == 5)]\n",
    "df_785314 = df_785314.set_index('Movie_Id')\n",
    "df_785314 = df_785314.join(df_title)['Name']\n",
    "print(df_785314)"
   ]
  },
  {
   "cell_type": "markdown",
   "metadata": {},
   "source": [
    "Agora realizando a predição do usuário tendo como base os dados fornecidos"
   ]
  },
  {
   "cell_type": "code",
   "execution_count": 80,
   "metadata": {},
   "outputs": [
    {
     "name": "stderr",
     "output_type": "stream",
     "text": [
      "C:\\Users\\rapha\\Anaconda3\\lib\\site-packages\\surprise\\prediction_algorithms\\algo_base.py:51: UserWarning: train() is deprecated. Use fit() instead\n",
      "  warnings.warn('train() is deprecated. Use fit() instead', UserWarning)\n"
     ]
    },
    {
     "name": "stdout",
     "output_type": "stream",
     "text": [
      "        Year                                               Name  \\\n",
      "3149  2000.0                   Monty Python: The Life of Python   \n",
      "2101  1994.0                             The Simpsons: Season 6   \n",
      "1551  1983.0                                        Black Adder   \n",
      "3520  2000.0                                 Coupling: Season 1   \n",
      "2171  1991.0                             The Simpsons: Season 3   \n",
      "3045  1990.0                  The Simpsons: Treehouse of Horror   \n",
      "493   1983.0  Monty Python's The Meaning of Life: Special Ed...   \n",
      "4114  1999.0                            The Simpsons: Bart Wars   \n",
      "3167  1987.0                          Evil Dead 2: Dead by Dawn   \n",
      "4391  1993.0                                   Army of Darkness   \n",
      "\n",
      "      Estimate_Score  \n",
      "3149        4.884688  \n",
      "2101        4.806203  \n",
      "1551        4.797537  \n",
      "3520        4.796494  \n",
      "2171        4.762671  \n",
      "3045        4.751675  \n",
      "493         4.747026  \n",
      "4114        4.670011  \n",
      "3167        4.599553  \n",
      "4391        4.598969  \n"
     ]
    }
   ],
   "source": [
    "user_785314 = df_title.copy()\n",
    "user_785314 = user_785314.reset_index()\n",
    "user_785314 = user_785314[~user_785314['Movie_Id'].isin(drop_movie_list)]\n",
    "\n",
    "# getting full dataset\n",
    "data = Dataset.load_from_df(df[['Cust_Id', 'Movie_Id', 'Rating']], reader)\n",
    "\n",
    "trainset = data.build_full_trainset()\n",
    "svd.train(trainset)\n",
    "\n",
    "user_785314['Estimate_Score'] = user_785314['Movie_Id'].apply(lambda x: svd.predict(785314, x).est)\n",
    "\n",
    "user_785314 = user_785314.drop('Movie_Id', axis = 1)\n",
    "\n",
    "user_785314 = user_785314.sort_values('Estimate_Score', ascending=False)\n",
    "print(user_785314.head(10))"
   ]
  },
  {
   "cell_type": "markdown",
   "metadata": {},
   "source": [
    "Desta forma e feito a correlação de preferencia de pessoas Pearsons R para medir a correlação linear entre os escores de revisão de todos os pares de filmes, então e fornecido os 10 melhores filmes com correlações mais altas:"
   ]
  },
  {
   "cell_type": "code",
   "execution_count": 85,
   "metadata": {
    "collapsed": true
   },
   "outputs": [],
   "source": [
    "def recommend(movie_title, min_count):\n",
    "    print(\"Para o Filme ({})\".format(movie_title))\n",
    "    print(\"- Os 10 Filmes mais recomendados baseado na correlação Pessoal- \")\n",
    "    i = int(df_title.index[df_title['Name'] == movie_title][0])\n",
    "    target = df_p[i]\n",
    "    similar_to_target = df_p.corrwith(target)\n",
    "    corr_target = pd.DataFrame(similar_to_target, columns = ['PearsonR'])\n",
    "    corr_target.dropna(inplace = True)\n",
    "    corr_target = corr_target.sort_values('PearsonR', ascending = False)\n",
    "    corr_target.index = corr_target.index.map(int)\n",
    "    corr_target = corr_target.join(df_title).join(df_movie_summary)[['PearsonR', 'Name', 'count', 'mean']]\n",
    "    print(corr_target[corr_target['count']>min_count][:10].to_string(index=False))"
   ]
  },
  {
   "cell_type": "markdown",
   "metadata": {},
   "source": [
    "Realizando a escolha do filme de escolha do usuário para fazer a recomendação."
   ]
  },
  {
   "cell_type": "code",
   "execution_count": 86,
   "metadata": {},
   "outputs": [
    {
     "name": "stdout",
     "output_type": "stream",
     "text": [
      "Para o Filme (Blade: Trinity)\n",
      "- Os 10 Filmes mais recomendados baseado na correlação Pessoal- \n",
      "PearsonR                              Name  count      mean\n",
      "                                                           \n",
      "1.000000                    Blade: Trinity  42727  3.548974\n",
      "0.452470                        Species II   7526  2.781424\n",
      "0.431088                      The Avengers   4412  2.334769\n",
      "0.424923                      The Pacifier  39875  3.557643\n",
      "0.424795             The Amityville Horror  19867  3.482408\n",
      "0.417413                Dungeons & Dragons   5797  2.634639\n",
      "0.414633  Teenage Mutant Ninja Turtles III   4242  2.590759\n",
      "0.413722                           Hostage  48617  3.762758\n",
      "0.409807                              Taxi  32027  3.362475\n",
      "0.409117                          Earthsea   5157  3.337599\n"
     ]
    }
   ],
   "source": [
    "recommend(\"Blade: Trinity\", 0)\n"
   ]
  },
  {
   "cell_type": "code",
   "execution_count": 87,
   "metadata": {},
   "outputs": [
    {
     "name": "stdout",
     "output_type": "stream",
     "text": [
      "Para o Filme (What the #$*! Do We Know!?)\n",
      "- Os 10 Filmes mais recomendados baseado na correlação Pessoal- \n",
      "PearsonR                                      Name  count      mean\n",
      "                                                                   \n",
      "1.000000                What the #$*! Do We Know!?  14910  3.189805\n",
      "0.326285                          The 10th Kingdom   4532  3.669903\n",
      "0.324225              Star Trek: Voyager: Season 5   4175  4.111377\n",
      "0.316818                                  Together   3958  3.889843\n",
      "0.312717      Star Trek: Deep Space Nine: Season 5   4373  4.160759\n",
      "0.309444           To Gillian on her 37th Birthday   4261  3.102793\n",
      "0.289334              Murder on the Orient Express   4785  3.743783\n",
      "0.288829        Nausicaa of the Valley of the Wind   6674  4.189542\n",
      "0.288389  Star Trek: The Next Generation: Season 5   8978  4.247494\n",
      "0.286320         The Life & Death of Peter Sellers   4702  3.099957\n"
     ]
    }
   ],
   "source": [
    "recommend(\"What the #$*! Do We Know!?\", 0)"
   ]
  },
  {
   "cell_type": "code",
   "execution_count": 88,
   "metadata": {},
   "outputs": [
    {
     "name": "stdout",
     "output_type": "stream",
     "text": [
      "Para o Filme (X2: X-Men United)\n",
      "- Os 10 Filmes mais recomendados baseado na correlação Pessoal- \n",
      "PearsonR                      Name   count      mean\n",
      "                                                    \n",
      "1.000000          X2: X-Men United   98720  3.932202\n",
      "0.342535             Batman Begins   54922  4.236699\n",
      "0.313025  Mortal Kombat: The Movie    7633  3.165466\n",
      "0.311354      The Matrix: Reloaded  106807  3.514704\n",
      "0.303351    Todd McFarlane's Spawn    4684  3.612511\n",
      "0.295555   The Matrix: Revolutions   60415  3.517040\n",
      "0.295549                Species II    7526  2.781424\n",
      "0.294434                 Daredevil   62628  2.979642\n",
      "0.293918      Smallville: Season 1   10082  4.169609\n",
      "0.293820            Blade: Trinity   42727  3.548974\n"
     ]
    }
   ],
   "source": [
    "recommend(\"X2: X-Men United\", 0)"
   ]
  },
  {
   "cell_type": "markdown",
   "metadata": {},
   "source": [
    "3 Aprendizado de Comitês\n",
    "\n",
    "Reproduzindo a implementação fornecida no notebook apresentando em um mesmo gráfico (que plota a taxa de erro contra a quantidade de iterações) "
   ]
  },
  {
   "cell_type": "code",
   "execution_count": 17,
   "metadata": {
    "collapsed": true
   },
   "outputs": [],
   "source": [
    "import pandas as pd\n",
    "import numpy as np\n",
    "from sklearn.tree import DecisionTreeClassifier\n",
    "from sklearn.model_selection import train_test_split\n",
    "from sklearn.datasets import make_hastie_10_2\n",
    "import matplotlib.pyplot as plt\n",
    "\n",
    "\"\"\" HELPER FUNCTION: GET ERROR RATE =========================================\"\"\"\n",
    "def get_error_rate(pred, Y):\n",
    "    return sum(pred != Y) / float(len(Y))\n",
    "\n",
    "\"\"\" HELPER FUNCTION: PRINT ERROR RATE =======================================\"\"\"\n",
    "def print_error_rate(err):\n",
    "    \n",
    "    print ('Error rate: Training: %.4f - Test: %.4f' % err)\n",
    "\n",
    "\"\"\" HELPER FUNCTION: GENERIC CLASSIFIER =====================================\"\"\"\n",
    "def generic_clf(Y_train, X_train, Y_test, X_test, clf):\n",
    "    clf.fit(X_train,Y_train)\n",
    "    pred_train = clf.predict(X_train)\n",
    "    pred_test = clf.predict(X_test)\n",
    "    return get_error_rate(pred_train, Y_train), \\\n",
    "        get_error_rate(pred_test, Y_test)"
   ]
  },
  {
   "cell_type": "code",
   "execution_count": 18,
   "metadata": {
    "collapsed": true
   },
   "outputs": [],
   "source": [
    "\"\"\" ADABOOST IMPLEMENTATION =================================================\"\"\"\n",
    "def adaboost_clf(Y_train, X_train, Y_test, X_test, M, clf):\n",
    "    n_train, n_test = len(X_train), len(X_test)\n",
    "    # Initialize weights\n",
    "    w = np.ones(n_train) / n_train\n",
    "    pred_train, pred_test = [np.zeros(n_train), np.zeros(n_test)]\n",
    "    for i in range(M):\n",
    "        # Fit a classifier with the specific weights\n",
    "        clf.fit(X_train, Y_train, sample_weight = w)\n",
    "        pred_train_i = clf.predict(X_train)\n",
    "        pred_test_i = clf.predict(X_test)\n",
    "        # Indicator function\n",
    "        miss = [int(x) for x in (pred_train_i != Y_train)]\n",
    "        # Equivalent with 1/-1 to update weights\n",
    "        miss2 = [x if x==1 else -1 for x in miss]\n",
    "        # Error\n",
    "        err_m = np.dot(w,miss) / sum(w)\n",
    "        # Alpha\n",
    "        alpha_m = 0.5 * np.log( (1 - err_m) / float(err_m))\n",
    "        # New weights\n",
    "        w = np.multiply(w, np.exp([float(x) * alpha_m for x in miss2]))\n",
    "        # Add to prediction\n",
    "        pred_train = [sum(x) for x in zip(pred_train,[x * alpha_m for x in pred_train_i])]\n",
    "        pred_test = [sum(x) for x in zip(pred_test,[x * alpha_m for x in pred_test_i])]\n",
    "        \n",
    "    pred_train, pred_test = np.sign(pred_train), np.sign(pred_test)\n",
    "    # Return error rate in train and test set\n",
    "    return get_error_rate(pred_train, Y_train), \\\n",
    "        get_error_rate(pred_test, Y_test)"
   ]
  },
  {
   "cell_type": "code",
   "execution_count": 33,
   "metadata": {
    "collapsed": true
   },
   "outputs": [],
   "source": [
    "# Read data\n",
    "x, y = make_hastie_10_2()\n",
    "df = pd.DataFrame(x)\n",
    "df['Y'] = y\n",
    "# Split into training and test set\n",
    "train, test = train_test_split(df, test_size = 0.2)\n",
    "X_train, Y_train = train.iloc[:,:-1], train.iloc[:,-1]\n",
    "X_test, Y_test = test.iloc[:,:-1], test.iloc[:,-1]\n",
    "\n",
    "# Fit a simple decision tree first\n",
    "clf_tree = DecisionTreeClassifier(max_depth = 1, random_state = 1)\n",
    "er_tree = generic_clf(Y_train, X_train, Y_test, X_test, clf_tree)"
   ]
  },
  {
   "cell_type": "code",
   "execution_count": 34,
   "metadata": {
    "collapsed": true
   },
   "outputs": [],
   "source": [
    "# Fit Adaboost classifier using a decision tree as base estimator\n",
    "# Test with different number of iterations\n",
    "er_train, er_test = [er_tree[0]], [er_tree[1]]\n",
    "x_range = range(10, 410, 10)\n",
    "for i in x_range:\n",
    "    er_i = adaboost_clf(Y_train, X_train, Y_test, X_test, i, clf_tree)\n",
    "    er_train.append(er_i[0])\n",
    "    er_test.append(er_i[1])\n",
    "    #er_i = adaboost_clf(Y_train, X_train, Y_test, X_test, 50, clf_tree)\n",
    "    #er_train.append(er_i[0])\n",
    "    #er_test.append(er_i[1])"
   ]
  },
  {
   "cell_type": "code",
   "execution_count": 22,
   "metadata": {},
   "outputs": [
    {
     "data": {
      "text/plain": [
       "<matplotlib.figure.Figure at 0x228fa0197b8>"
      ]
     },
     "metadata": {},
     "output_type": "display_data"
    },
    {
     "data": {
      "image/png": "[encoded data removed]",
      "text/plain": [
       "<matplotlib.figure.Figure at 0x228fa069438>"
      ]
     },
     "metadata": {},
     "output_type": "display_data"
    }
   ],
   "source": [
    "%run -i \"plot_error_rate.py\"\n",
    "# Compare error rate vs number of iterations\n",
    "plot_error_rate(er_train, er_test)"
   ]
  }
 ],
 "metadata": {
  "kernelspec": {
   "display_name": "Python 3",
   "language": "python",
   "name": "python3"
  },
  "language_info": {
   "codemirror_mode": {
    "name": "ipython",
    "version": 3
   },
   "file_extension": ".py",
   "mimetype": "text/x-python",
   "name": "python",
   "nbconvert_exporter": "python",
   "pygments_lexer": "ipython3",
   "version": "3.6.3"
  }
 },
 "nbformat": 4,
 "nbformat_minor": 2
}
