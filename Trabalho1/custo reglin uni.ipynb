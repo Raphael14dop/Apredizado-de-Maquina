{
 "cells": [
  {
   "cell_type": "code",
   "execution_count": 65,
   "metadata": {},
   "outputs": [],
   "source": [
    "import os\n",
    "\n",
    "import numpy as np\n",
    "\n",
    "import pandas as pd\n",
    "\n",
    "import matplotlib.pyplot as plt\n",
    "\n",
    "%matplotlib inline\n",
    "\n",
    "\n",
    "def importarDados(filepath, names):\n",
    "\n",
    "    path = os.getcwd() + filepath  \n",
    "\n",
    "    data = pd.read_csv(path, delimiter=\",\", header=None, names=names)\n",
    "\n",
    "   \n",
    "    X = data.iloc[:,0:-1].values\n",
    "\n",
    "    y = data.iloc[:, -1:].values\n",
    "\n",
    "\n",
    "    # Incluir o valor de 1 em x, pois theta0 = 1\n",
    "\n",
    "    X = np.c_[np.ones((X.shape[0], 1)), X]\n",
    "\n",
    "    \n",
    "    data.X = X\n",
    "\n",
    "    data.y = y\n",
    "   \n",
    "        \n",
    "    return data\n",
    "\n",
    "\n",
    "def custo_regrlin(X, y, theta):\n",
    "    \n",
    "    \"\"\"\"\n",
    "    \"Após implementar essa função, você pode verificar a cor-\n",
    "retude executando com todos os parâmetros iguais a zero. Nessa situação, sua\n",
    "função deve gerar um valor igual a 32,07.\"\n",
    "\"\"\"\n",
    "    # Quantidade de exemplos de treinamento\n",
    "    m = len(y)\n",
    "    # redefinindo theta\n",
    "    theta = np.array([0,0]).reshape(-1, 1)\n",
    "    # Computar a funcao do custo J\n",
    "    J = (np.sum((X.dot(theta) - y)**2)) / (2 * m)\n",
    "    \n",
    "    return J\n",
    "\n",
    "def plot():\n",
    "\n",
    "    data = importarDados(filepath=\"\\ex1data1.txt\", names=[\"Population\",\"Profit\"])\n",
    "        \n",
    "    result = (custo_regrlin(data.X,data.y, 0))\n",
    "    \n",
    "    print (\"Com todos os parâmetros iguais a zero, a função gera um valor igual a %.2f.\" % result)\n",
    "    "
   ]
  },
  {
   "cell_type": "code",
   "execution_count": 67,
   "metadata": {},
   "outputs": [
    {
     "name": "stdout",
     "output_type": "stream",
     "text": [
      "Com todos os parâmetros iguais a zero, a função gera um valor igual a 32.07.\n"
     ]
    }
   ],
   "source": [
    "plot ()\n",
    "    "
   ]
  },
  {
   "cell_type": "code",
   "execution_count": null,
   "metadata": {},
   "outputs": [],
   "source": []
  },
  {
   "cell_type": "code",
   "execution_count": null,
   "metadata": {
    "collapsed": true
   },
   "outputs": [],
   "source": []
  },
  {
   "cell_type": "code",
   "execution_count": null,
   "metadata": {
    "collapsed": true
   },
   "outputs": [],
   "source": []
  },
  {
   "cell_type": "code",
   "execution_count": null,
   "metadata": {
    "collapsed": true
   },
   "outputs": [],
   "source": []
  },
  {
   "cell_type": "code",
   "execution_count": null,
   "metadata": {
    "collapsed": true
   },
   "outputs": [],
   "source": []
  },
  {
   "cell_type": "code",
   "execution_count": null,
   "metadata": {
    "collapsed": true
   },
   "outputs": [],
   "source": []
  },
  {
   "cell_type": "code",
   "execution_count": null,
   "metadata": {
    "collapsed": true
   },
   "outputs": [],
   "source": []
  }
 ],
 "metadata": {
  "kernelspec": {
   "display_name": "Python 3",
   "language": "python",
   "name": "python3"
  },
  "language_info": {
   "codemirror_mode": {
    "name": "ipython",
    "version": 3
   },
   "file_extension": ".py",
   "mimetype": "text/x-python",
   "name": "python",
   "nbconvert_exporter": "python",
   "pygments_lexer": "ipython3",
   "version": "3.6.3"
  }
 },
 "nbformat": 4,
 "nbformat_minor": 2
}
