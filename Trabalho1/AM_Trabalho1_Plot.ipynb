{
 "cells": [
  {
   "cell_type": "code",
   "execution_count": 28,
   "metadata": {
    "collapsed": true
   },
   "outputs": [],
   "source": [
    "import os\n",
    "\n",
    "import numpy as np\n",
    "\n",
    "import pandas as pd\n",
    "\n",
    "import matplotlib.pyplot as plt\n",
    "\n",
    "%matplotlib inline\n",
    "\n",
    "\n",
    "def importarDados(filepath, names):\n",
    "\n",
    "    path = os.getcwd() + filepath  \n",
    "\n",
    "    data = pd.read_csv(path, delimiter=\",\", header=None, names=names)\n",
    "\n",
    "   \n",
    "    X = data.iloc[:,0:-1].values\n",
    "\n",
    "    y = data.iloc[:, -1:].values\n",
    "\n",
    "\n",
    "    # Incluir o valor de 1 em x, pois theta0 = 1\n",
    "\n",
    "    X = np.c_[np.ones((X.shape[0], 1)), X]\n",
    "\n",
    "    \n",
    "    data.X = X\n",
    "\n",
    "    data.y = y\n",
    "   \n",
    "        \n",
    "    return data\n",
    "\n",
    "\n",
    "def plot():\n",
    "\n",
    "    data = importarDados(filepath=\"\\ex1data1.txt\", names=[\"Population\",\"Profit\"])\n",
    "       \n",
    "    #plt.figure(figsize=(10,6))\n",
    "    \n",
    "    plt.scatter(data.X[:,1], data.y, Color='red', marker='x')\n",
    "    \n",
    "    plt.title('Populacao da cidade x Lucro da filial')\n",
    "\n",
    "    plt.xlabel('Populacao da cidade (10k)')\n",
    "\n",
    "    plt.ylabel('Lucro (10k)')\n",
    "\n",
    "    filename = 'target/plot1.1.png'\n",
    "\n",
    "    #if not os.path.exists(os.path.dirname(filename)):\n",
    "\n",
    "     # os.makedirs(os.path.dirname(filename))\n",
    "\n",
    "    plt.savefig(filename)\n",
    "\n",
    "    plt.show()"
   ]
  },
  {
   "cell_type": "code",
   "execution_count": 30,
   "metadata": {
    "scrolled": true
   },
   "outputs": [
    {
     "data": {
      "image/png": "[encoded data removed]",
      "text/plain": [
       "<matplotlib.figure.Figure at 0x2503f7590b8>"
      ]
     },
     "metadata": {},
     "output_type": "display_data"
    }
   ],
   "source": [
    "plot()\n"
   ]
  },
  {
   "cell_type": "code",
   "execution_count": null,
   "metadata": {
    "collapsed": true
   },
   "outputs": [],
   "source": []
  },
  {
   "cell_type": "code",
   "execution_count": null,
   "metadata": {
    "collapsed": true
   },
   "outputs": [],
   "source": []
  }
 ],
 "metadata": {
  "kernelspec": {
   "display_name": "Python 3",
   "language": "python",
   "name": "python3"
  },
  "language_info": {
   "codemirror_mode": {
    "name": "ipython",
    "version": 3
   },
   "file_extension": ".py",
   "mimetype": "text/x-python",
   "name": "python",
   "nbconvert_exporter": "python",
   "pygments_lexer": "ipython3",
   "version": "3.6.3"
  }
 },
 "nbformat": 4,
 "nbformat_minor": 2
}
